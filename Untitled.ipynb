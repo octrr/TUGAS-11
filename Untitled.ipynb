{
 "cells": [
  {
   "cell_type": "code",
   "execution_count": 1,
   "id": "53e637d0",
   "metadata": {},
   "outputs": [
    {
     "name": "stdout",
     "output_type": "stream",
     "text": [
      "Welcome in Python Languange\n",
      "Welcome in Python Languange\n"
     ]
    }
   ],
   "source": [
    "nama = \"Welcome in Python Languange\"\n",
    "\n",
    "def helloPython():\n",
    "    print(nama)\n",
    "\n",
    "def outname():\n",
    "    print(nama)\n",
    "\n",
    "helloPython()\n",
    "outname()"
   ]
  },
  {
   "cell_type": "code",
   "execution_count": 3,
   "id": "70c0540b",
   "metadata": {},
   "outputs": [
    {
     "name": "stdout",
     "output_type": "stream",
     "text": [
      "MOCHAMAD OCTA\n"
     ]
    }
   ],
   "source": [
    "def fullName(fristname,lastname):\n",
    "    print(f\"{fristname} {lastname}\")\n",
    "\n",
    "fullName(\"MOCHAMAD\",\"OCTA\")"
   ]
  },
  {
   "cell_type": "code",
   "execution_count": 4,
   "id": "cdeb5d3f",
   "metadata": {},
   "outputs": [
    {
     "name": "stdout",
     "output_type": "stream",
     "text": [
      "Nilai terbesar adalah -5\n"
     ]
    }
   ],
   "source": [
    "def maxValue(val_1, val_2, val_3):\n",
    "  max_val = max(val_1, val_2, val_3)\n",
    "  print(f\"Nilai terbesar adalah {max_val}\")\n",
    "    \n",
    "maxValue(-5, -10, -15)"
   ]
  },
  {
   "cell_type": "code",
   "execution_count": 5,
   "id": "b4ed61a8",
   "metadata": {},
   "outputs": [
    {
     "name": "stdout",
     "output_type": "stream",
     "text": [
      "21.5\n"
     ]
    }
   ],
   "source": [
    "def countCircleArea(diameter,phi=3.14):\n",
    "    r = diameter/2\n",
    "    return phi * r * r\n",
    "\n",
    "\n",
    "def countSquareArea(sisi):\n",
    "    return sisi*sisi\n",
    "\n",
    "def calculate(val_circle,val_square):\n",
    "    circle = countCircleArea(val_circle)\n",
    "    square = countSquareArea(val_square)\n",
    "    return square - circle\n",
    "\n",
    "print(calculate(10,10))"
   ]
  },
  {
   "cell_type": "code",
   "execution_count": 6,
   "id": "e4414f34",
   "metadata": {},
   "outputs": [
    {
     "name": "stdout",
     "output_type": "stream",
     "text": [
      "suhu di sukabumi : 30 celcius\n",
      "suhu di cisaat : 20 celcius\n",
      "suhu di sukabumi : 30 bekasi Gas Yokkk\n"
     ]
    }
   ],
   "source": [
    "def info(suhu,daerah='sukabumi',satuan='celcius'):\n",
    "    print(f\"suhu di {daerah} : {suhu} {satuan}\")\n",
    "\n",
    "info(30)\n",
    "info(20,'cisaat')\n",
    "\n",
    "info(30,satuan=\"bekasi\"+ \" \"+\"Gas Yokkk\")"
   ]
  },
  {
   "cell_type": "code",
   "execution_count": 7,
   "id": "cfa7990a",
   "metadata": {},
   "outputs": [
    {
     "name": "stdout",
     "output_type": "stream",
     "text": [
      "Bilangan Positif\n"
     ]
    }
   ],
   "source": [
    "def check_number(n):\n",
    "    if n < 0:\n",
    "        hasil = \"Bilangan Negatif\"\n",
    "        return hasil\n",
    "    elif n == 0:\n",
    "        hasil = \"Bilangan Netral\"\n",
    "        return hasil\n",
    "    else:\n",
    "        hasil = \"Bilangan Positif\"\n",
    "        return hasil\n",
    "\n",
    "result = check_number(12)\n",
    "print(f\"{result}\")"
   ]
  },
  {
   "cell_type": "code",
   "execution_count": 8,
   "id": "0ba66375",
   "metadata": {},
   "outputs": [
    {
     "name": "stdout",
     "output_type": "stream",
     "text": [
      "37\n"
     ]
    }
   ],
   "source": [
    "def jumList(values):\n",
    "  total = 0\n",
    "  for value in values:\n",
    "    total += value\n",
    "  return total\n",
    "\n",
    "values = [1, 7, 10, 4, 15]\n",
    "result = jumList(values)\n",
    "print(result)"
   ]
  },
  {
   "cell_type": "code",
   "execution_count": 9,
   "id": "17ea2757",
   "metadata": {},
   "outputs": [
    {
     "name": "stdout",
     "output_type": "stream",
     "text": [
      "1000\n"
     ]
    }
   ],
   "source": [
    "def nilaiMax(values):\n",
    "    maxValue = values[0]\n",
    "    for value in values:\n",
    "        if value > maxValue:\n",
    "            maxValue = value\n",
    "    return maxValue\n",
    "\n",
    "result = nilaiMax([100, 254, 345, 1000])\n",
    "print(result)"
   ]
  },
  {
   "cell_type": "code",
   "execution_count": 10,
   "id": "ed4342a3",
   "metadata": {},
   "outputs": [
    {
     "name": "stdout",
     "output_type": "stream",
     "text": [
      "[8, 10, 12]\n"
     ]
    }
   ],
   "source": [
    "def gabungList(list1, list2):\n",
    "    result = []\n",
    "    for i in range(len(list1)):\n",
    "        result.append(list1[i] + list2[i])\n",
    "    return result\n",
    "\n",
    "result = gabungList([2,3,4], [6,7,8])\n",
    "print(result)"
   ]
  }
 ],
 "metadata": {
  "kernelspec": {
   "display_name": "Python 3 (ipykernel)",
   "language": "python",
   "name": "python3"
  },
  "language_info": {
   "codemirror_mode": {
    "name": "ipython",
    "version": 3
   },
   "file_extension": ".py",
   "mimetype": "text/x-python",
   "name": "python",
   "nbconvert_exporter": "python",
   "pygments_lexer": "ipython3",
   "version": "3.9.12"
  }
 },
 "nbformat": 4,
 "nbformat_minor": 5
}
